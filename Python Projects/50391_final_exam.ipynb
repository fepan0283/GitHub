{
 "cells": [
  {
   "cell_type": "markdown",
   "metadata": {
    "cell_id": "00000-c3cc9411-665c-47d2-837f-9124437304d6",
    "deepnote_cell_type": "markdown",
    "id": "78tH6NampwSi"
   },
   "source": [
    "<img src=\"https://apps.novasbe.pt/NovaMobility/resources/assets/images/nova_logo.png\" width=\"300\">"
   ]
  },
  {
   "cell_type": "markdown",
   "metadata": {
    "cell_id": "00001-9ea7a192-e2d9-438e-ab09-2c94bcc4b14a",
    "deepnote_cell_type": "markdown",
    "id": "GKejZwIBpwSl"
   },
   "source": [
    "<center> <h1>Introduction to Programming Exam</h1></center>"
   ]
  },
  {
   "cell_type": "markdown",
   "metadata": {
    "cell_id": "00002-689b38d7-3f68-49da-ae25-78bdbb39a6ee",
    "deepnote_cell_type": "markdown",
    "id": "tcSxjAxOpwSn"
   },
   "source": [
    "Instructions:"
   ]
  },
  {
   "cell_type": "markdown",
   "metadata": {
    "cell_id": "00003-360f30ec-8f75-4e81-a38a-6a86174ac680",
    "deepnote_cell_type": "markdown",
    "id": "fnU6-KHHpwSp"
   },
   "source": [
    "- The exam has a duration of **2 hours**.\n",
    "- You **cannot access other programs other than Jupyter Notebook during the exam.**\n",
    "- You are allowed a two-sided printed A4 cheatsheet to help you with Python syntax.\n",
    "- Complete the exam and save the exam as <student_number>.ipynb with **your student number**. Eg. 40000.ipynb\n",
    "- Avoid submitting your exam with any `SyntaxError`. **Please ensure your exam runs end to end after a kernel restart before submitting.**\n",
    "- Submit the ipynb file on moodle."
   ]
  },
  {
   "cell_type": "markdown",
   "metadata": {},
   "source": [
    "<a name=\"top\"></a>Exercises\n",
    "===\n",
    "- [Exercise 1](#ex1) [4 points]\n",
    "- [Exercise 2](#ex2) [4 points]\n",
    "- [Exercise 3](#ex3) [4 points] \n",
    "- [Exercise 4](#ex4) [3 points]\n",
    "- [Exercise 5](#ex5) [2.5 points]\n",
    "- [Exercise 6](#ex6) [2.5 points]"
   ]
  },
  {
   "cell_type": "markdown",
   "metadata": {},
   "source": [
    "---"
   ]
  },
  {
   "cell_type": "markdown",
   "metadata": {
    "cell_id": "00004-6dbc9259-6e8e-48e9-a0d4-a5f9fcd53087",
    "deepnote_cell_type": "markdown"
   },
   "source": [
    "# Exercise 1 <a name=\"ex1\"></a>\n",
    "[(go to top)](#top)"
   ]
  },
  {
   "cell_type": "markdown",
   "metadata": {
    "cell_id": "00005-b7e4dad3-78ad-4624-bcf2-40c391da25f7",
    "deepnote_cell_type": "markdown"
   },
   "source": [
    "Define a function `count_characters` that accepts a string and returns the count each character of that string as dictionary. Note that the count should not be case sensitive.\n",
    "\n",
    "Example:\n",
    "\n",
    "\n",
    "```python\n",
    "count_characters(\"Hello\")\n",
    ">> {'h': 1, 'e': 1, 'l': 2, 'o': 1}\n",
    "\n",
    "count_characters(\"Eel\")\n",
    ">> {'e': 2, 'l': 1}\n",
    "```"
   ]
  },
  {
   "cell_type": "code",
   "execution_count": 1,
   "metadata": {},
   "outputs": [],
   "source": [
    "def count_characters(string):\n",
    "    final_dict = {}\n",
    "    low_string = string.lower()\n",
    "    list_char = []\n",
    "    string.lower()\n",
    "    for i in low_string:\n",
    "        if i.lower() not in list_char:\n",
    "            list_char.append(i) \n",
    "    print(list_char)\n",
    "    for i in list_char:\n",
    "        final_dict[i] = low_string.count(i)\n",
    "            \n",
    "    return final_dict"
   ]
  },
  {
   "cell_type": "markdown",
   "metadata": {},
   "source": [
    "---"
   ]
  },
  {
   "cell_type": "markdown",
   "metadata": {},
   "source": [
    "# Exercise 2  <a name=\"ex2\"></a>\n",
    "[(go to top)](#top)"
   ]
  },
  {
   "cell_type": "markdown",
   "metadata": {
    "cell_id": "00008-6acf57d6-f66f-498d-89bf-c320253ef1a0",
    "deepnote_cell_type": "markdown"
   },
   "source": [
    "Define a function `merge_lists` that accepts one argument, a list of lists, and returns one single merged list with all the elements of each list. If all the lists are empty, the function should return the string `\"nothing to merge\"`.\n",
    "\n",
    "```python\n",
    "merge_lists([[1, 2, 3], [4, 5, 6]])\n",
    ">> [1, 2, 3, 4, 5, 6]\n",
    "\n",
    "merge_lists([[1, 2, 3], [4, 'Cast'], ['Iron',8]])\n",
    ">> [1, 2, 3, 4, 'Cast', 'Iron', 8]\n",
    "\n",
    "merge_lists([[], []])\n",
    ">> \"nothing to merge\"\n",
    "```\n",
    "\n"
   ]
  },
  {
   "cell_type": "code",
   "execution_count": 2,
   "metadata": {
    "cell_id": "00011-ea46cf2d-ddb6-4650-a0e9-cacd4edfbbfe",
    "deepnote_cell_type": "code",
    "tags": []
   },
   "outputs": [],
   "source": [
    "def merge_lists(list_of_lists):\n",
    "    new_list = []\n",
    "    counter = 0\n",
    "    for i in list_of_lists:\n",
    "        for v in i:\n",
    "            new_list.append(v)\n",
    "            counter += 1\n",
    "    if counter == 0:\n",
    "        return \"nothing to merge\"\n",
    "    else:\n",
    "        return new_list"
   ]
  },
  {
   "cell_type": "markdown",
   "metadata": {},
   "source": [
    "---"
   ]
  },
  {
   "cell_type": "markdown",
   "metadata": {},
   "source": [
    "# Exercise 3 <a name=\"ex3\"></a>\n",
    "[(go to top)](#top)"
   ]
  },
  {
   "cell_type": "markdown",
   "metadata": {},
   "source": [
    "Define a function `sum_numeric_values` that accepts one list and returns the sum of all numeric types and numeric strings. \n",
    "\n",
    "Note that the list can have elements of any data type.\n",
    "\n",
    "(Hint: you can use `str.isnumeric` method to check for numeric strings).\n",
    "\n",
    "If there is nothing to sum the function should return `0`.\n",
    "\n",
    "\n",
    "Example:\n",
    "```python\n",
    "sum_numeric_values([10, 10, 20.0, \"20\", 10, \"b\", (\"1\", \"2\", \"3\")])\n",
    ">> 70\n",
    "\n",
    "sum_numeric_values([\"b\", (\"1\", 2, \"3\")])\n",
    ">> 0\n",
    "\n",
    "sum_numeric_values([])\n",
    ">> 0\n",
    "```\n"
   ]
  },
  {
   "cell_type": "code",
   "execution_count": 3,
   "metadata": {},
   "outputs": [],
   "source": [
    "def sum_numeric_values(list_1):\n",
    "    new_list = []\n",
    "    for i in list_1:\n",
    "        if type(i) == int or type(i) == float:\n",
    "            new_list.append(i)\n",
    "        elif type(i) == str and i.isnumeric():\n",
    "                new_list.append(int(i))\n",
    "        else:\n",
    "            pass\n",
    "    return int(sum(new_list))"
   ]
  },
  {
   "cell_type": "markdown",
   "metadata": {},
   "source": [
    "---"
   ]
  },
  {
   "cell_type": "markdown",
   "metadata": {
    "cell_id": "00015-8d6f9545-0355-4c6b-b587-a4d001e2eada",
    "deepnote_cell_type": "markdown"
   },
   "source": [
    "# Exercise 4  <a name=\"ex4\"></a>\n",
    "[(go to top)](#top)"
   ]
  },
  {
   "cell_type": "markdown",
   "metadata": {},
   "source": [
    "A matrix can be represented by a list of lists.\n",
    "\n",
    "```python  \n",
    "    [[1, 2, 3], \n",
    "     [4, 5, 6], \n",
    "     [7, 8, 9]]\n",
    "```\n",
    "\n",
    "\n",
    "Define a class named `Matrix` that accepts as an argumet a list of lists.\n",
    "\n",
    "The list of lists must only have numerical types and each list should be the same lenght as the main list, like the example above, imitating a square matrix, i.e. the example above has 4 lists and each list has 4 numbers. If you have 5 lists, then each list has to have 5 numbers.\n",
    "\n",
    "This class has the following methods:\n",
    "\n",
    "1. A method `get_row` that accepts as arguments `row_index` (number) and `return_sum` (which is `False` by default). The method should return the numbers in the specific `row_index` of the matrix and if `return_sum` is `True` it returns the sum of the numbers in that row.\n",
    "\n",
    "2. A method `get_column` that accepts as arguments `column_index` (number).The method should return the numbers in the specific `column_index` of the matrix.\n",
    "\n",
    "*You don't need to do any verification of the `row_index`, `column_index` that the user will input, you can assume the user only inputs valid indexes.\n",
    "\n",
    "For example:\n",
    "```python\n",
    "\n",
    "matrix = Matrix(\n",
    "    [[1, 2, 3], \n",
    "     [4, 5, 6], \n",
    "     [7, 8, 9]]\n",
    ")\n",
    "\n",
    "matrix.get_row(0)\n",
    ">> [1, 2, 3]\n",
    "\n",
    "matrix.get_row(0, return_sum=True)\n",
    ">> 6\n",
    "\n",
    "matrix.get_column(1)\n",
    ">> [2, 5, 8]\n",
    "\n",
    "```\n"
   ]
  },
  {
   "cell_type": "code",
   "execution_count": 4,
   "metadata": {},
   "outputs": [],
   "source": [
    "\n",
    "class Matrix:\n",
    "    def __init__(self, list_of_lists):\n",
    "        self.list_of_lists = list_of_lists\n",
    "    \n",
    "    def get_row(self,row_index, return_sum=False):\n",
    "        if return_sum == True:\n",
    "            return sum(self.list_of_lists[row_index])\n",
    "        else:\n",
    "            return self.list_of_lists[row_index]\n",
    "    \n",
    "    def get_column(self, column_index):\n",
    "        final_list = []\n",
    "        for i in self.list_of_lists:\n",
    "            final_list.append(i[column_index])\n",
    "        return final_list"
   ]
  },
  {
   "cell_type": "markdown",
   "metadata": {},
   "source": [
    "---"
   ]
  },
  {
   "cell_type": "markdown",
   "metadata": {
    "cell_id": "00018-6919b63c-64e8-4c7d-8699-18fd91847672",
    "deepnote_cell_type": "markdown"
   },
   "source": [
    "# Exercise 5  <a name=\"ex5\"></a>\n",
    "[(go to top)](#top)"
   ]
  },
  {
   "cell_type": "markdown",
   "metadata": {},
   "source": [
    "Define a class `Rocket`. Every object of this class should:\n",
    "- accept a `name` argument (and stores it as instance variable)\n",
    "- start with instance variable `x` as 0\n",
    "- start with instance variable `y` as 0\n",
    "- start with instance variable `fuel` as 100\n",
    "\n",
    "The class should have the following methods:\n",
    "\n",
    "\n",
    "-  A method `thrusters()`, with arguments `x` and `y` as floats. \n",
    "    - This method should the deduct the objects `fuel` by `0.1` for each `x` unit and `0.5` for each `y` unit. Assume only positive x and y.\n",
    "\n",
    "</br>\n",
    "\n",
    "- A method `move()`, with arguments `x` and `y` as floats, representing horizontal movement and vertical movement.\n",
    "    \n",
    "    - Each `move()` call implies turning on the `thrusters()`, thus burning fuel for a given `x` and `y` movement. \n",
    "    - This method also ensures the rocket object does not move without enough fuel. Print the string `Not enough fuel` if that happens.\n",
    "\n",
    "</br>\n",
    "\n",
    "-  A method `distance()`, which argument `other_rocket` is another `Rocket` object. \n",
    "\n",
    "    - The method should use the Euclidean distance formula to return the distance to other `Rocket` object as a float. The Euclidean distance formula is the following: \n",
    "\n",
    "    ```python\n",
    "    ((x1 - x2)**2 + (y1 - y2)**2) ** .5  # where x1, y1 are rocket 1 coordinates, x2, y2 are rocket 2 coordinates\n",
    "    ```\n",
    "  \n",
    "</br>\n",
    "\n",
    "\n",
    "Example:\n",
    "\n",
    "```python\n",
    "rocket_1 = Rocket(\"Serenity\")\n",
    "rocket_2 = Rocket(\"Rocinante\")\n",
    "\n",
    "print(rocket_1.name) # should print Serenity\n",
    "\n",
    "rocket_1.move(x=25, y=35)\n",
    "rocket_2.move(x=35, y=25)\n",
    "\n",
    "print(rocket_1.fuel) # should be 80\n",
    "print(rocket_2.fuel) # should be 84\n",
    "\n",
    "rocket_1.distance(rocket_2)\n",
    ">> 14.142135623730951\n",
    "\n",
    "rocket_2.move(x=0, y=168)\n",
    "print(rocket_2.fuel) # should be 0\n",
    "\n",
    "rocket_1.distance(rocket_2)\n",
    ">> 158.3161394173064\n",
    "\n",
    "rocket_2.move(x=1, y=0)\n",
    "# should print \"Not enough fuel\"\n",
    "```"
   ]
  },
  {
   "cell_type": "code",
   "execution_count": 7,
   "metadata": {},
   "outputs": [],
   "source": [
    "class Rocket:\n",
    "    def __init__(self, name, x=0, y=0, fuel=100):\n",
    "        self.name = name\n",
    "        self.x = x\n",
    "        self.y = y\n",
    "        self.fuel = fuel\n",
    "    \n",
    "    def thrusters(self, x, y):\n",
    "        global movement\n",
    "        movement = 0.1 * x + 0.5 * y\n",
    "        self.fuel -= movement\n",
    "        return int(self.fuel)\n",
    "    \n",
    "    def move(self, x, y):\n",
    "        if self.fuel - movement >= 0:\n",
    "            self.thrusters(x, y)\n",
    "            self.x += x\n",
    "            self.y += y\n",
    "        else:\n",
    "            print(\"Not enough fuel\")\n",
    "        return int(self.fuel)\n",
    "    \n",
    "    def distance(self,other_rocket):\n",
    "        distance = ((self.x - other_rocket.x)**2 + (self.y - other_rocket.y)**2) ** .5\n",
    "        print(distance)"
   ]
  },
  {
   "cell_type": "markdown",
   "metadata": {},
   "source": [
    "---"
   ]
  },
  {
   "cell_type": "markdown",
   "metadata": {
    "cell_id": "00012-b5f5eec6-69a5-4411-a254-5c5c5b166c65",
    "deepnote_cell_type": "markdown"
   },
   "source": [
    "# Exercise 6  <a name=\"ex6\"></a>\n",
    "[(go to top)](#top)"
   ]
  },
  {
   "cell_type": "markdown",
   "metadata": {},
   "source": [
    "Define a function called `process_parliament_data` that accepts one argument, a `dict` argument containing other `dict`, representing the proportion of women in national parliaments.\n",
    "\n",
    "\n",
    "Assume the `dict` argument should have the following structure, where each key is of the dict country, and each key of the nested dict specifies a year (as a string)\n",
    "\n",
    "```json\n",
    "{\n",
    "    \"Portugal\": {\n",
    "        \"2015\": 34.78,\n",
    "        \"2016\": 34.78,\n",
    "        \"2017\": 34.78,\n",
    "    },\n",
    "    \"Spain\": {\n",
    "        \"2015\": 41.14,\n",
    "        \"2016\": 39.14,\n",
    "        \"2017\": 39.14,\n",
    "    },\n",
    "    \"France\": {\n",
    "        \"2015\": 26.17,\n",
    "        \"2016\": 26.17,\n",
    "        \"2017\": 38.99,\n",
    "    },\n",
    "    \"Germany\": {\n",
    "        \"2013\": 36.45,\n",
    "        \"2014\": 36.45,\n",
    "        \"2015\": 30.75,\n",
    "    },\n",
    "}\n",
    "```\n",
    "\n",
    "The function `process_parliament_data` should return a `dict` containing the same information, but grouped by year key instead of country key.\n",
    "\n",
    "Note that that your solution should support any year key - do not hardcode only for the displayed years in the examples.\n",
    "\n",
    "Example:\n",
    "\n",
    "```python\n",
    "process_parliament_data(\n",
    "    {\n",
    "        \"Portugal\": {\"2015\": 34.78, \"2016\": 34.78,},\n",
    "        \"Spain\":    {\"2015\": 41.14, \"2016\": 39.14, \"2017\": 39.14}\n",
    "    }\n",
    ")\n",
    "\n",
    ">> {\"2015\": {\"Portugal\": 34.78, \"Spain\": 41.14},\n",
    "    \"2016\": {\"Portugal\": 34.78, \"Spain\": 39.14},\n",
    "    \"2017\": {\"Spain\": 39.14}}\n",
    "```\n"
   ]
  },
  {
   "cell_type": "code",
   "execution_count": 6,
   "metadata": {},
   "outputs": [],
   "source": [
    "def process_parliament_data(diction):\n",
    "    year_list = []\n",
    "    for i,v in diction.items():\n",
    "        for value in v:\n",
    "            if value not in year_list:\n",
    "                year_list.append(value)\n",
    "                year_list.sort()\n",
    "    print(year_list)\n",
    "    final_dict = {}\n",
    "    for year in year_list:\n",
    "        for i,v in diction.items():\n",
    "            for y,q in v.items():\n",
    "                if year in v:\n",
    "                    final_dict[year] = (i,q)\n",
    "    print(final_dict)\n"
   ]
  },
  {
   "cell_type": "code",
   "execution_count": null,
   "metadata": {},
   "outputs": [],
   "source": []
  },
  {
   "cell_type": "code",
   "execution_count": null,
   "metadata": {},
   "outputs": [],
   "source": []
  }
 ],
 "metadata": {
  "deepnote": {},
  "deepnote_execution_queue": [],
  "deepnote_notebook_id": "d2b1c404-251c-4b01-b678-dd8fe0c69160",
  "kernelspec": {
   "display_name": "Python 3",
   "language": "python",
   "name": "python3"
  },
  "language_info": {
   "codemirror_mode": {
    "name": "ipython",
    "version": 3
   },
   "file_extension": ".py",
   "mimetype": "text/x-python",
   "name": "python",
   "nbconvert_exporter": "python",
   "pygments_lexer": "ipython3",
   "version": "3.8.8"
  }
 },
 "nbformat": 4,
 "nbformat_minor": 4
}
